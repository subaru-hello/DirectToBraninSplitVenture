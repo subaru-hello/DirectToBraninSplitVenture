{
 "cells": [
  {
   "cell_type": "code",
   "execution_count": 1,
   "metadata": {},
   "outputs": [
    {
     "name": "stderr",
     "output_type": "stream",
     "text": [
      "/Users/subaru/dev_2023/llama_index/.venv/lib/python3.11/site-packages/tqdm/auto.py:21: TqdmWarning: IProgress not found. Please update jupyter and ipywidgets. See https://ipywidgets.readthedocs.io/en/stable/user_install.html\n",
      "  from .autonotebook import tqdm as notebook_tqdm\n"
     ]
    },
    {
     "name": "stdout",
     "output_type": "stream",
     "text": [
      "Running on local URL:  http://127.0.0.1:7860\n",
      "\n",
      "To create a public link, set `share=True` in `launch()`.\n"
     ]
    },
    {
     "data": {
      "text/html": [
       "<div><iframe src=\"http://127.0.0.1:7860/\" width=\"100%\" height=\"500\" allow=\"autoplay; camera; microphone; clipboard-read; clipboard-write;\" frameborder=\"0\" allowfullscreen></iframe></div>"
      ],
      "text/plain": [
       "<IPython.core.display.HTML object>"
      ]
     },
     "metadata": {},
     "output_type": "display_data"
    },
    {
     "data": {
      "text/plain": []
     },
     "execution_count": 1,
     "metadata": {},
     "output_type": "execute_result"
    }
   ],
   "source": [
    "from dotenv import load_dotenv\n",
    "\n",
    "load_dotenv()\n",
    "\n",
    "import gradio as gr\n",
    "from llama_index import VectorStoreIndex, SimpleDirectoryReader\n",
    "\n",
    "# 読み込み\n",
    "documents = SimpleDirectoryReader('spilitsVentures').load_data()\n",
    "# documents = SimpleDirectoryReader('/data').load_data()\n",
    "\n",
    "# index作成\n",
    "index = VectorStoreIndex.from_documents(documents)\n",
    "\n",
    "# 検索\n",
    "query_engine = index.as_query_engine()\n",
    "\n",
    "import asyncio\n",
    "\n",
    "with gr.Blocks() as demo:\n",
    "    chatbot = gr.Chatbot()\n",
    "    msg = gr.Textbox()\n",
    "    clear = gr.ClearButton([msg, chatbot])\n",
    "\n",
    "    async def respond(message, chat_history):\n",
    "        with_japanese = \"。日本語で応えてください。\"\n",
    "        bot_message = query_engine.query(message + with_japanese)\n",
    "\n",
    "        chat_history.append((message, \"私たちのイズムは、「積極的・協力的・肯定的・楽観的」であることです。私たちは、前向きに物事を考え、仲間と協力し、自分たちができることを肯定し、すべてを良い方向に考えるプラス思考を徹底します。また、知識を知恵に昇華させ、「だからできない」ではなく「こうすればできる」と言えるポジティブな集団を目指します。\"))\n",
    "        # await asyncio.sleep(2)\n",
    "        return \"\", chat_history\n",
    "\n",
    "    msg.submit(respond, [msg, chatbot], [msg, chatbot])\n",
    "\n",
    "demo.launch()\n",
    "\n",
    "# def question(name):\n",
    "#     with_japanese = \"。日本語で応えてください。\"\n",
    "\n",
    "#     response = query_engine.query(name + with_japanese)\n",
    "#     return response\n",
    "\n",
    "# with gr.Blocks() as demo:\n",
    "#     name = gr.Textbox(label=\"悩み\")\n",
    "#     output = gr.Textbox(label=\"ありがたきお言葉\")\n",
    "#     question_btn = gr.Button(\"聞く\")\n",
    "#     question_btn.click(fn=question, inputs=name, outputs=output, api_name=\"question\")\n",
    "\n",
    "\n",
    "# demo.launch()"
   ]
  }
 ],
 "metadata": {
  "kernelspec": {
   "display_name": ".venv",
   "language": "python",
   "name": "python3"
  },
  "language_info": {
   "codemirror_mode": {
    "name": "ipython",
    "version": 3
   },
   "file_extension": ".py",
   "mimetype": "text/x-python",
   "name": "python",
   "nbconvert_exporter": "python",
   "pygments_lexer": "ipython3",
   "version": "3.11.4"
  },
  "orig_nbformat": 4
 },
 "nbformat": 4,
 "nbformat_minor": 2
}
